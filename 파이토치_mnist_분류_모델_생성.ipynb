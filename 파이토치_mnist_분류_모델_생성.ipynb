{
  "nbformat": 4,
  "nbformat_minor": 0,
  "metadata": {
    "colab": {
      "provenance": [],
      "gpuType": "T4"
    },
    "kernelspec": {
      "name": "python3",
      "display_name": "Python 3"
    },
    "language_info": {
      "name": "python"
    },
    "accelerator": "GPU"
  },
  "cells": [
    {
      "cell_type": "markdown",
      "source": [
        "# modul import"
      ],
      "metadata": {
        "id": "n5kiln-fVzZ4"
      }
    },
    {
      "cell_type": "code",
      "execution_count": null,
      "metadata": {
        "colab": {
          "base_uri": "https://localhost:8080/"
        },
        "id": "eZBQLRKuUWar",
        "outputId": "57508a59-f844-4ce6-e106-1f5cbca31fe1"
      },
      "outputs": [
        {
          "output_type": "stream",
          "name": "stderr",
          "text": [
            "<ipython-input-63-2c45c0f907c0>:15: MatplotlibDeprecationWarning: The seaborn styles shipped by Matplotlib are deprecated since 3.6, as they no longer correspond to the styles shipped by seaborn. However, they will remain available as 'seaborn-v0_8-<style>'. Alternatively, directly use the seaborn API instead.\n",
            "  plt.style.use('seaborn-white')\n"
          ]
        }
      ],
      "source": [
        "# modules import\n",
        "\n",
        "import torch\n",
        "import torch.nn as nn\n",
        "import torch.nn.functional as F\n",
        "import torch.optim as optim\n",
        "from torch.utils.data import Dataset, DataLoader\n",
        "\n",
        "import torchvision\n",
        "import torchvision.datasets\n",
        "import torchvision.transforms as transforms\n",
        "\n",
        "import numpy as np\n",
        "import matplotlib.pyplot as plt\n",
        "plt.style.use('seaborn-white')"
      ]
    },
    {
      "cell_type": "markdown",
      "source": [
        "# GPU 사용"
      ],
      "metadata": {
        "id": "Gud7dWNGEOyX"
      }
    },
    {
      "cell_type": "code",
      "source": [
        "device = 'cuda' if torch.cuda.is_available() else 'cpu'\n",
        "\n",
        "# 랜덤 시드 고정\n",
        "torch.manual_seed(777)\n",
        "\n",
        "# GPU 사용 가능일 경우 랜덤 시드 고정\n",
        "if device == 'cuda':\n",
        "    torch.cuda.manual_seed_all(777)"
      ],
      "metadata": {
        "id": "X2Rkva7VEReG"
      },
      "execution_count": null,
      "outputs": []
    },
    {
      "cell_type": "markdown",
      "source": [
        "# 전처리 설정"
      ],
      "metadata": {
        "id": "iMJoT9WwV2qC"
      }
    },
    {
      "cell_type": "code",
      "source": [
        "# transform: 데이터를 조작하고 학습에 적합하게 만들기 위해서 사용함.\n",
        "#transforms.Compose: 여러 단계로 변환해야 하는 경우, Compose를 통해 여러 단계를 묶을 수 있음.\n",
        "# transforms.ToTensor(): 데이터를 tensor로 바꿔줌.\n",
        "# transforms.Normalize(mean, std, inplace=False): 정규화\n",
        "\n",
        "\n",
        "transform = transforms.Compose([transforms.ToTensor(),\n",
        "                                transforms.Normalize((0.5,),(0.5,))])"
      ],
      "metadata": {
        "id": "bGDyYuMXV6me"
      },
      "execution_count": null,
      "outputs": []
    },
    {
      "cell_type": "markdown",
      "source": [
        "# 데이터 로드 및 데이터 확인"
      ],
      "metadata": {
        "id": "hQ7_Wdp3XYeq"
      }
    },
    {
      "cell_type": "markdown",
      "source": [
        "torchvision을 통해 데이터를 다운"
      ],
      "metadata": {
        "id": "wvvkogjdw0lP"
      }
    },
    {
      "cell_type": "code",
      "source": [
        "trainset = torchvision.datasets.MNIST(root='./data', # 다운 받을 경로\n",
        "                                      train=True, # 인자로 True를 주면, MNIST의 훈련 데이터를 리턴 받음.\n",
        "                                      download=True, # 해당 경로에 MNIST 데이터가 없다면 다운로드 받겠다.\n",
        "                                      transform=transform) # 위에서 전처리 설정한 것으로 변환시켜줌.\n",
        "\n",
        "testset = torchvision.datasets.MNIST(root='./data',\n",
        "                                      train=False, # 인자로 False를 주면, MNIST의 테스트 데이터를 리턴 받음.\n",
        "                                      download=True,\n",
        "                                      transform=transform)"
      ],
      "metadata": {
        "id": "jeO13oBLXQjV"
      },
      "execution_count": null,
      "outputs": []
    },
    {
      "cell_type": "markdown",
      "source": [
        "DataLoader\n",
        "- DataLoader 클래스는 데이터셋을 샘플러와 병합하여 iterable한 형태로 출력해줌.\n"
      ],
      "metadata": {
        "id": "w9fPFq7WwiDO"
      }
    },
    {
      "cell_type": "code",
      "source": [
        "train_loader = DataLoader(trainset,\n",
        "                          batch_size=128, # 배치 크기는 128\n",
        "                          shuffle=True, # 매 에포크마다 미니 배치를 셔플할 것인지 여부\n",
        "                          num_workers =2 )\n",
        "\n",
        "test_loader = DataLoader(testset,\n",
        "                         batch_size=128,\n",
        "                         shuffle=False,\n",
        "                         num_workers = 2) # 데이터를 불러올때 subprocess를 몇개 사용할 것인지 (에러가 나면 0으로 설정)\n",
        "\n",
        "# 에포크는 전체 데이터 셋이 신경망을 통과한 횟수 의미함, 즉 모든 데이터셋을 학습 하는 횟수이다.\n",
        "# 즉 shuffle은 전체 학습 데이터를 배열 인덱스와 관계없이 만드는 작업으로, 과적합(overfitting)을 막고자 함.\n",
        "# subprocss: 파이썬 스크립트에서 쉘 명령 등 다른 프로세스를 실행하고 출력 결과를 가져올 수 있게 해주는 라이브러리"
      ],
      "metadata": {
        "id": "yNJc8TSuej8t"
      },
      "execution_count": null,
      "outputs": []
    },
    {
      "cell_type": "code",
      "source": [
        "image, label = next(iter(train_loader))\n",
        "\n",
        "# 데이터를 하나씩 불러온다."
      ],
      "metadata": {
        "id": "I2k8gszee7mD"
      },
      "execution_count": null,
      "outputs": []
    },
    {
      "cell_type": "code",
      "source": [
        "image.shape, label.shape\n",
        "\n",
        "# MNIST data image of shape 28 * 28 = 784\n",
        "# torch.Size([배치사이즈, 채널수, 이미지 너비, 이미지 높이])"
      ],
      "metadata": {
        "colab": {
          "base_uri": "https://localhost:8080/"
        },
        "id": "oME4GC0qkCgO",
        "outputId": "e490bb83-08c7-4cdb-f35b-cc6ed33ae6e7"
      },
      "execution_count": null,
      "outputs": [
        {
          "output_type": "execute_result",
          "data": {
            "text/plain": [
              "(torch.Size([128, 1, 28, 28]), torch.Size([128]))"
            ]
          },
          "metadata": {},
          "execution_count": 80
        }
      ]
    },
    {
      "cell_type": "markdown",
      "source": [
        "데이터 속 이미지 확인"
      ],
      "metadata": {
        "id": "gdidK0Gyy3kz"
      }
    },
    {
      "cell_type": "code",
      "source": [
        "def imshow(img):\n",
        "  img = img / 2 + 0.5\n",
        "  npimg = img.numpy()\n",
        "  fig = plt.figure(figsize=(10,5))\n",
        "  plt.imshow(np.transpose(npimg,(1,2,0)))\n",
        "  plt.show()"
      ],
      "metadata": {
        "id": "yQ2qNXVbkEE_"
      },
      "execution_count": null,
      "outputs": []
    },
    {
      "cell_type": "code",
      "source": [
        "# 이미지 무작위로 가져오기\n",
        "dataiter = iter(train_loader)\n",
        "images, labels = next(dataiter)\n",
        "\n",
        "imshow(torchvision.utils.make_grid(images[:4]))"
      ],
      "metadata": {
        "colab": {
          "base_uri": "https://localhost:8080/",
          "height": 261
        },
        "id": "4BXM1fdzxupZ",
        "outputId": "8247f073-5af7-49ee-812d-0b2b371ded78"
      },
      "execution_count": null,
      "outputs": [
        {
          "output_type": "display_data",
          "data": {
            "text/plain": [
              "<Figure size 1000x500 with 1 Axes>"
            ],
            "image/png": "[encoded data removed]"
          },
          "metadata": {}
        }
      ]
    },
    {
      "cell_type": "markdown",
      "source": [
        "## 신경망 구성"
      ],
      "metadata": {
        "id": "Ba5gEBp5zOi0"
      }
    },
    {
      "cell_type": "markdown",
      "source": [
        "Conv2d\n",
        "\n",
        "- 주로 Conv2d는 이미지 분류에서 많이 사용한다.\n",
        "- Conv2d(in_channels, out_channels, kernel_size, stride=1, padding=0, dilation=1, groups=1, bias=True, padding_mode='zeros')\n",
        "\n",
        "pooling layer\n",
        "\n",
        "- Convolution을 거쳐서 나온 activation maps이 있을 때, 이를 이루는 convolution layer을 resizing하여 새로운 layer를 얻는 것\n",
        "- 최댓값을 뽑아내는 max pooling과 평균값을 뽑아내는 mean pooling 등이 있음.\n",
        "- MaxPool2d(kernel_size, stride=None, padding=0, dilation=1, return_indices=False, ceil_mode=False)"
      ],
      "metadata": {
        "id": "T7oOzHXh00eP"
      }
    },
    {
      "cell_type": "code",
      "source": [
        "class Net(nn.Module):\n",
        "\n",
        "  def __init__(self):\n",
        "    super(Net, self).__init__()\n",
        "\n",
        "    # 첫번째 합성곱 층 구현, 1 input image channel, 6 output channels, 3x3 square convolution\n",
        "    self.conv1 = nn.Conv2d(1,6,3)\n",
        "    # 두번째 합성곱 층 구현, 6 input image channel, 16 output channels, 3x3 square convolution\n",
        "    self.conv2 = nn.Conv2d(6, 16, 3)\n",
        "    # an affine operation: y = Wx + b\n",
        "    self.fc1 = nn.Linear(16*5*5,120) # 5*5 from image dimension\n",
        "    self.fc2 = nn.Linear(120,84)\n",
        "    self.fc3=nn.Linear(84,10)\n",
        "\n",
        "  def forward(self, x):\n",
        "    # Max pooling over a (2, 2) window\n",
        "    x = F.max_pool2d(F.relu(self.conv1(x)),(2,2))\n",
        "    # If the size is a square you can only specify a single number\n",
        "    x = F.max_pool2d(F.relu(self.conv2(x)),2)\n",
        "    x = x.view(-1,self.num_flat_features(x))\n",
        "    x = F.relu(self.fc1(x))\n",
        "    x = F.relu(self.fc2(x))\n",
        "    x = self.fc3(x)\n",
        "    return x\n",
        "\n",
        "  def num_flat_features(self,x):\n",
        "    size = x.size()[1:] # all dimensions except the batch dimension\n",
        "    num_features = 1\n",
        "    for s in size:\n",
        "      num_features  *= s\n",
        "\n",
        "    return num_features\n",
        "\n",
        "net = Net()\n",
        "print(net)\n"
      ],
      "metadata": {
        "colab": {
          "base_uri": "https://localhost:8080/"
        },
        "id": "vfg3BRVwzRNt",
        "outputId": "ebdbf41d-1e18-4675-9c02-ccd933c86a97"
      },
      "execution_count": null,
      "outputs": [
        {
          "output_type": "stream",
          "name": "stdout",
          "text": [
            "Net(\n",
            "  (conv1): Conv2d(1, 6, kernel_size=(3, 3), stride=(1, 1))\n",
            "  (conv2): Conv2d(6, 16, kernel_size=(3, 3), stride=(1, 1))\n",
            "  (fc1): Linear(in_features=400, out_features=120, bias=True)\n",
            "  (fc2): Linear(in_features=120, out_features=84, bias=True)\n",
            "  (fc3): Linear(in_features=84, out_features=10, bias=True)\n",
            ")\n"
          ]
        }
      ]
    },
    {
      "cell_type": "code",
      "source": [
        "net = Net().to(device)"
      ],
      "metadata": {
        "id": "SuwBnjcLFe9T"
      },
      "execution_count": null,
      "outputs": []
    },
    {
      "cell_type": "markdown",
      "source": [
        "# 손실함수와 옵티마이저"
      ],
      "metadata": {
        "id": "ZSmbRfvJ6sz3"
      }
    },
    {
      "cell_type": "markdown",
      "source": [
        "분류를 위한 Cross-Entropy 손실 함수와 모멘텀을 설정한 SGD 옵티마이저 사용\n",
        "* SGD옵티마이저: 전체가 아니라 배치 단위로 가중치를 업데이트 하자는 아이디어를 통해 만들어졌으며, 옵티마이저는 가중치를 업데이트하는 알고리즘이다."
      ],
      "metadata": {
        "id": "OnD8pZLY7BJy"
      }
    },
    {
      "cell_type": "code",
      "source": [
        "criterion = nn.CrossEntropyLoss()\n",
        "optimizer = optim.SGD(net.parameters(), lr=0.001, momentum=0.9)"
      ],
      "metadata": {
        "id": "hC5t-_B54Hmf"
      },
      "execution_count": null,
      "outputs": []
    },
    {
      "cell_type": "markdown",
      "source": [
        "# 모델 학습\n",
        "\n",
        "- optimizer.zero_grad: 가중치의 그레디언트 초기화\n",
        "- loss 계산\n",
        "- loss.backward()\n",
        "- optimizzer.step(): 업데이트"
      ],
      "metadata": {
        "id": "eLUZDxgh7sTH"
      }
    },
    {
      "cell_type": "markdown",
      "source": [
        "배치수 확인"
      ],
      "metadata": {
        "id": "Ruz4rTiN73UI"
      }
    },
    {
      "cell_type": "code",
      "source": [
        "total_batch = len(train_loader)\n",
        "print(total_batch)"
      ],
      "metadata": {
        "colab": {
          "base_uri": "https://localhost:8080/"
        },
        "id": "fOGerTmU6-1-",
        "outputId": "3547902c-16e5-4904-ac3e-19acdb0249be"
      },
      "execution_count": null,
      "outputs": [
        {
          "output_type": "stream",
          "name": "stdout",
          "text": [
            "469\n"
          ]
        }
      ]
    },
    {
      "cell_type": "code",
      "source": [
        "for epoch in range(2): # 데이터셋을 수차례 반복\n",
        "\n",
        "    running_loss = 0.0\n",
        "    for i, data in enumerate(train_loader,0):\n",
        "      # [inputs, labels]의 목록인 data로부터 입력을 받은 후;\n",
        "      inputs, labels = data[0].to(device), data[1].to(device)\n",
        "\n",
        "      # 변화도 매개변수를 0으로 만듦.\n",
        "      optimizer.zero_grad()\n",
        "\n",
        "      # 순전파 + 역전파 + 최적화\n",
        "      outputs = net(inputs)\n",
        "      loss = criterion(outputs, labels) # 손실 함수를 이용한 오차 계산\n",
        "      loss.backward() # 모델의 학습 가능한 모든 파라미터에 대해 기울기를 계산\n",
        "      optimizer.step() # optimizer의 step 함수를 호출하면 파라미터를 갱신\n",
        "\n",
        "      # 평균 손실 출력\n",
        "      running_loss += loss.item()\n",
        "      if i%100==99 :\n",
        "        print(\"Epoch: {}, Iter: {}, Loss: {}\".format(epoch+1, i+1, running_loss/2000))\n",
        "        running_loss = 0.\n",
        "\n",
        "# running_loss를 2000으로 나누는 이유는 평균 손실을 계산하기 위해서. 코드에서는 매 100번의 미니배치(100번의 반복)마다 running_loss에 손실을 더하고, 그 값을 2000으로 나눠서 출력."
      ],
      "metadata": {
        "colab": {
          "base_uri": "https://localhost:8080/"
        },
        "id": "pV3WC_JW7_8U",
        "outputId": "8f518161-5684-44a2-d3f9-5817e56b08c2"
      },
      "execution_count": null,
      "outputs": [
        {
          "output_type": "stream",
          "name": "stdout",
          "text": [
            "Epoch: 1, Iter: 100, Loss: 0.11507568144798279\n",
            "Epoch: 1, Iter: 200, Loss: 0.11477261340618133\n",
            "Epoch: 1, Iter: 300, Loss: 0.1143971117734909\n",
            "Epoch: 1, Iter: 400, Loss: 0.11389781856536865\n",
            "Epoch: 2, Iter: 100, Loss: 0.112491654753685\n",
            "Epoch: 2, Iter: 200, Loss: 0.11082293999195099\n",
            "Epoch: 2, Iter: 300, Loss: 0.10700143420696259\n",
            "Epoch: 2, Iter: 400, Loss: 0.09684363007545471\n"
          ]
        }
      ]
    },
    {
      "cell_type": "markdown",
      "source": [
        "# 모델의 저장 및 로드\n",
        "\n",
        "- torch.save\n",
        "  - net.state_dict()를 저장\n",
        "- torch.load\n",
        "  - load_state_dict로 모델을 로드"
      ],
      "metadata": {
        "id": "oaAPk-EH93Di"
      }
    },
    {
      "cell_type": "code",
      "source": [
        "PATH = './mnist_net.pth'\n",
        "torch.save(net.state_dict(),PATH)"
      ],
      "metadata": {
        "id": "RiidFeZR8JRV"
      },
      "execution_count": null,
      "outputs": []
    },
    {
      "cell_type": "code",
      "source": [
        "net = Net()\n",
        "net.load_state_dict(torch.load(PATH))"
      ],
      "metadata": {
        "colab": {
          "base_uri": "https://localhost:8080/"
        },
        "id": "G1hyN3ux-JCN",
        "outputId": "69b9900c-1b51-416b-c2f3-8baba0a73809"
      },
      "execution_count": null,
      "outputs": [
        {
          "output_type": "execute_result",
          "data": {
            "text/plain": [
              "<All keys matched successfully>"
            ]
          },
          "metadata": {},
          "execution_count": 51
        }
      ]
    },
    {
      "cell_type": "code",
      "source": [
        "net.parameters"
      ],
      "metadata": {
        "colab": {
          "base_uri": "https://localhost:8080/",
          "height": 186
        },
        "id": "lFj1GvTK-Otz",
        "outputId": "6a0169b8-b9ab-445f-f15c-75e120819215"
      },
      "execution_count": null,
      "outputs": [
        {
          "output_type": "execute_result",
          "data": {
            "text/plain": [
              "<bound method Module.parameters of Net(\n",
              "  (conv1): Conv2d(1, 6, kernel_size=(3, 3), stride=(1, 1))\n",
              "  (conv2): Conv2d(6, 16, kernel_size=(3, 3), stride=(1, 1))\n",
              "  (fc1): Linear(in_features=400, out_features=120, bias=True)\n",
              "  (fc2): Linear(in_features=120, out_features=84, bias=True)\n",
              "  (fc3): Linear(in_features=84, out_features=10, bias=True)\n",
              ")>"
            ],
            "text/html": [
              "<div style=\"max-width:800px; border: 1px solid var(--colab-border-color);\"><style>\n",
              "      pre.function-repr-contents {\n",
              "        overflow-x: auto;\n",
              "        padding: 8px 12px;\n",
              "        max-height: 500px;\n",
              "      }\n",
              "\n",
              "      pre.function-repr-contents.function-repr-contents-collapsed {\n",
              "        cursor: pointer;\n",
              "        max-height: 100px;\n",
              "      }\n",
              "    </style>\n",
              "    <pre style=\"white-space: initial; background:\n",
              "         var(--colab-secondary-surface-color); padding: 8px 12px;\n",
              "         border-bottom: 1px solid var(--colab-border-color);\"><b>torch.nn.modules.module.Module.parameters</b><br/>def parameters(recurse: bool=True) -&gt; Iterator[Parameter]</pre><pre class=\"function-repr-contents function-repr-contents-collapsed\" style=\"\"><a class=\"filepath\" style=\"display:none\" href=\"#\">/usr/local/lib/python3.10/dist-packages/torch/nn/modules/module.py</a>Returns an iterator over module parameters.\n",
              "\n",
              "This is typically passed to an optimizer.\n",
              "\n",
              "Args:\n",
              "    recurse (bool): if True, then yields parameters of this module\n",
              "        and all submodules. Otherwise, yields only parameters that\n",
              "        are direct members of this module.\n",
              "\n",
              "Yields:\n",
              "    Parameter: module parameter\n",
              "\n",
              "Example::\n",
              "\n",
              "    &gt;&gt;&gt; # xdoctest: +SKIP(&quot;undefined vars&quot;)\n",
              "    &gt;&gt;&gt; for param in model.parameters():\n",
              "    &gt;&gt;&gt;     print(type(param), param.size())\n",
              "    &lt;class &#x27;torch.Tensor&#x27;&gt; (20L,)\n",
              "    &lt;class &#x27;torch.Tensor&#x27;&gt; (20L, 1L, 5L, 5L)</pre>\n",
              "      <script>\n",
              "      if (google.colab.kernel.accessAllowed && google.colab.files && google.colab.files.view) {\n",
              "        for (const element of document.querySelectorAll('.filepath')) {\n",
              "          element.style.display = 'block'\n",
              "          element.onclick = (event) => {\n",
              "            event.preventDefault();\n",
              "            event.stopPropagation();\n",
              "            google.colab.files.view(element.textContent, 2170);\n",
              "          };\n",
              "        }\n",
              "      }\n",
              "      for (const element of document.querySelectorAll('.function-repr-contents')) {\n",
              "        element.onclick = (event) => {\n",
              "          event.preventDefault();\n",
              "          event.stopPropagation();\n",
              "          element.classList.toggle('function-repr-contents-collapsed');\n",
              "        };\n",
              "      }\n",
              "      </script>\n",
              "      </div>"
            ]
          },
          "metadata": {},
          "execution_count": 52
        }
      ]
    },
    {
      "cell_type": "markdown",
      "source": [
        "# 모델 테스트"
      ],
      "metadata": {
        "id": "aGIEYSRn-Sta"
      }
    },
    {
      "cell_type": "code",
      "source": [
        "dataiter = iter(test_loader)\n",
        "images, labels = next(dataiter)\n",
        "\n",
        "imshow(torchvision.utils.make_grid(images[:4]))"
      ],
      "metadata": {
        "colab": {
          "base_uri": "https://localhost:8080/",
          "height": 261
        },
        "id": "wB26sgNM-ROo",
        "outputId": "1553aa8f-13ab-48f8-d141-29758f6fc085"
      },
      "execution_count": null,
      "outputs": [
        {
          "output_type": "display_data",
          "data": {
            "text/plain": [
              "<Figure size 1000x500 with 1 Axes>"
            ],
            "image/png": "[encoded data removed]"
          },
          "metadata": {}
        }
      ]
    },
    {
      "cell_type": "code",
      "source": [
        "# 모델에 이미지 전달하여 출력 계산\n",
        "\n",
        "outputs = net(images)"
      ],
      "metadata": {
        "id": "IZ-M1av3-g0c"
      },
      "execution_count": null,
      "outputs": []
    },
    {
      "cell_type": "code",
      "source": [
        "# 각 이미지에 대한 최대 값과 해당 인덱스 찾기\n",
        "\n",
        "_, predicted = torch.max(outputs, 1)\n",
        "print(predicted)"
      ],
      "metadata": {
        "colab": {
          "base_uri": "https://localhost:8080/"
        },
        "id": "WgbGnl6W-mwQ",
        "outputId": "709e559f-3ea6-4633-fbb3-72f228ff303d"
      },
      "execution_count": null,
      "outputs": [
        {
          "output_type": "stream",
          "name": "stdout",
          "text": [
            "tensor([7, 2, 1, 0, 4, 1, 4, 4, 3, 4, 0, 0, 4, 0, 1, 3, 4, 7, 6, 4, 4, 6, 4, 3,\n",
            "        4, 0, 7, 4, 3, 1, 3, 1, 3, 2, 3, 2, 7, 1, 3, 1, 1, 7, 4, 3, 3, 3, 3, 3,\n",
            "        4, 4, 6, 3, 3, 3, 6, 3, 4, 1, 4, 1, 7, 2, 3, 3, 4, 3, 2, 4, 3, 0, 7, 0,\n",
            "        2, 3, 1, 4, 3, 7, 1, 7, 7, 6, 2, 7, 3, 4, 7, 3, 6, 1, 3, 6, 1, 3, 1, 4,\n",
            "        3, 4, 6, 4, 6, 0, 3, 4, 4, 4, 2, 1, 4, 4, 3, 1, 3, 4, 3, 4, 4, 4, 4, 6,\n",
            "        3, 4, 7, 6, 4, 4, 0, 3])\n"
          ]
        }
      ]
    },
    {
      "cell_type": "code",
      "source": [
        "# 예측된 클래스 인덱스들을 텍스트로 출력\n",
        "\n",
        "print(''.join('{}\\t'.format(str(predicted[j].numpy()))  for j in range(4)))"
      ],
      "metadata": {
        "colab": {
          "base_uri": "https://localhost:8080/"
        },
        "id": "S2e_HCLJ-p6Q",
        "outputId": "c5f42990-584d-4e29-ba14-fbefb50fbf6e"
      },
      "execution_count": null,
      "outputs": [
        {
          "output_type": "stream",
          "name": "stdout",
          "text": [
            "7\t2\t1\t0\t\n"
          ]
        }
      ]
    },
    {
      "cell_type": "markdown",
      "source": [],
      "metadata": {
        "id": "4NQ9kpoMIt_P"
      }
    },
    {
      "cell_type": "code",
      "source": [
        "# 정확한 예측과 전체 이미지 수를 저장할 변수 초기화\n",
        "correct = 0\n",
        "total = 0\n",
        "\n",
        "with torch.no_grad():\n",
        "  # 테스트 데이터셋을 반복하여 예측 수행\n",
        "  for data in test_loader:\n",
        "    images, labels = data[0].to(device), data[1].to(device)\n",
        "    # 모델에 이미지 전달하여 출력 계산\n",
        "    outputs = net(images)\n",
        "    # 각 이미지에 대한 최대 값과 해당 인덱스 찾기\n",
        "    _, predicted = torch.max(outputs.data,1)\n",
        "    # 전체 이미지 수 업데이트\n",
        "    total += labels.size(0)\n",
        "    # 정확하게 예측된 이미지 수 업데이트\n",
        "    correct += (predicted == labels).sum().item()\n",
        "\n",
        "# 정확도 계산 및 출력\n",
        "print(100*correct / total)"
      ],
      "metadata": {
        "colab": {
          "base_uri": "https://localhost:8080/"
        },
        "id": "UiuI2IaN_X9y",
        "outputId": "54b37876-d51b-4c4e-92e6-9eb297bc40e2"
      },
      "execution_count": null,
      "outputs": [
        {
          "output_type": "stream",
          "name": "stdout",
          "text": [
            "68.09\n"
          ]
        }
      ]
    }
  ]
}